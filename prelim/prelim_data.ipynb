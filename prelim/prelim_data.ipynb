{
 "cells": [
  {
   "cell_type": "code",
   "execution_count": null,
   "metadata": {},
   "outputs": [],
   "source": [
    "import pandas as pd\n",
    "\n",
    "train_easy_data = pd.read_csv('data/easy_train.csv')\n",
    "test_easy_data = pd.read_csv('data/easy_validation.csv')\n",
    "train_medium_data = pd.read_csv('data/medium_train.csv')\n",
    "test_medium_data = pd.read_csv('data/medium_validation.csv')\n",
    "train_hard_data = pd.read_csv('data/hard_train.csv')\n",
    "test_hard_data = pd.read_csv('data/hard_validation.csv')\n",
    "\n"
   ]
  },
  {
   "cell_type": "code",
   "execution_count": null,
   "metadata": {},
   "outputs": [],
   "source": [
    "import matplotlib.pyplot as plt\n",
    "\n",
    "plt.figure(figsize=(12, 6))\n",
    "plt.subplot(231)\n",
    "train_easy_data['label'].value_counts().sort_index().plot(kind='bar', color='salmon', rot=0)\n",
    "plt.title('Distribution of Labels in Easy Train Set  ', fontsize=10)\n",
    "plt.subplot(232)\n",
    "train_medium_data['label'].value_counts().sort_index().plot(kind='bar', color='skyblue', rot=0)\n",
    "plt.title('Distribution of Labels in Medium Train Set', fontsize=10)\n",
    "plt.subplot(233)\n",
    "train_hard_data['label'].value_counts().sort_index().plot(kind='bar', color='lightgreen', rot=0)\n",
    "plt.title('Distribution of Labels in Hard Train Set', fontsize=10)\n",
    "plt.show()\n"
   ]
  },
  {
   "cell_type": "code",
   "execution_count": null,
   "metadata": {},
   "outputs": [],
   "source": [
    "plt.figure(figsize=(12, 6))\n",
    "plt.subplot(231)\n",
    "test_easy_data['label'].value_counts().sort_index().plot(kind='bar', color='salmon', rot=0)\n",
    "plt.title('Distribution of Labels in Easy Validation Set  ', fontsize=10)\n",
    "plt.subplot(232)\n",
    "test_medium_data['label'].value_counts().sort_index().plot(kind='bar', color='skyblue', rot=0)\n",
    "plt.title('Distribution of Labels in Medium Validation Set', fontsize=10)\n",
    "plt.subplot(233)\n",
    "test_hard_data['label'].value_counts().sort_index().plot(kind='bar', color='lightgreen', rot=0)\n",
    "plt.title('Distribution of Labels in Hard Validation Set', fontsize=10)\n",
    "plt.show()"
   ]
  }
 ],
 "metadata": {
  "language_info": {
   "name": "python"
  }
 },
 "nbformat": 4,
 "nbformat_minor": 2
}
