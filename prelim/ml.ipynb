{
 "cells": [
  {
   "cell_type": "code",
   "execution_count": null,
   "metadata": {},
   "outputs": [],
   "source": [
    "import pandas as pd\n",
    "\n",
    "train_data = pd.read_csv('data/easy_train.csv')\n",
    "test_data = pd.read_csv('data/easy_validation.csv')\n",
    "\n",
    "print(train_data.head())"
   ]
  },
  {
   "cell_type": "code",
   "execution_count": null,
   "metadata": {},
   "outputs": [],
   "source": [
    "from sklearn.feature_extraction.text import TfidfVectorizer\n",
    "from sklearn.pipeline import Pipeline\n",
    "from sklearn.base import BaseEstimator, TransformerMixin\n",
    "from scipy.spatial.distance import cosine\n",
    "import numpy as np\n",
    "\n",
    "class ArticlePairTransformer(BaseEstimator, TransformerMixin):\n",
    "    def __init__(self, ngram_range=(1, 2)):\n",
    "        self.vectorizer = TfidfVectorizer(ngram_range=ngram_range)\n",
    "\n",
    "    def fit(self, X, y=None):\n",
    "        articles = list(X['sentence_1']) + list(X['sentence_2'])\n",
    "        self.vectorizer.fit(articles)\n",
    "        return self\n",
    "\n",
    "    def transform(self, X):\n",
    "        article1_tfidf = self.vectorizer.transform(X['sentence_1'])\n",
    "        article2_tfidf = self.vectorizer.transform(X['sentence_2'])\n",
    "        print(article1_tfidf.shape)\n",
    "        \n",
    "        similarities = [cosine(article1_tfidf[i].toarray().flatten(), article2_tfidf[i].toarray().flatten()) for i in range(X.shape[0])]\n",
    "        \n",
    "        return pd.DataFrame({'cosine_similarity': similarities})\n",
    "\n",
    "pipeline = Pipeline([\n",
    "    ('features', ArticlePairTransformer(ngram_range=(2, 2))),\n",
    "])\n",
    "\n",
    "X_train_transformed = pipeline.fit_transform(train_data)\n",
    "X_test_transformed = pipeline.fit_transform(test_data)"
   ]
  },
  {
   "cell_type": "code",
   "execution_count": null,
   "metadata": {},
   "outputs": [],
   "source": [
    "X_train_transformed.fillna(0, inplace=True)\n",
    "X_test_transformed.fillna(0, inplace=True)\n"
   ]
  },
  {
   "cell_type": "code",
   "execution_count": null,
   "metadata": {},
   "outputs": [],
   "source": [
    "from sklearn.linear_model import LogisticRegression\n",
    "from sklearn.model_selection import train_test_split\n",
    "from sklearn.metrics import accuracy_score, classification_report, f1_score\n",
    "\n",
    "X_train = X_train_transformed\n",
    "y_train = train_data['label']\n",
    "X_test = X_test_transformed\n",
    "y_test = test_data['label']\n",
    "\n",
    "model = LogisticRegression()\n",
    "model.fit(X_train, y_train)\n",
    "\n",
    "y_pred = model.predict(X_test)\n",
    "accuracy = accuracy_score(y_test, y_pred)\n",
    "f1 = f1_score(y_test, y_pred)\n",
    "classification_rep = classification_report(y_test, y_pred)\n",
    "\n",
    "print(f'Accuracy: {accuracy}')\n",
    "print(f'F1 Score: {f1}')\n",
    "print('Classification Report:')\n",
    "print(classification_rep)\n"
   ]
  },
  {
   "cell_type": "code",
   "execution_count": null,
   "metadata": {},
   "outputs": [],
   "source": [
    "from sklearn.svm import SVC\n",
    "from sklearn.model_selection import train_test_split\n",
    "from sklearn.metrics import accuracy_score, classification_report, f1_score\n",
    "\n",
    "X_train = X_train_transformed\n",
    "y_train = train_data['label']\n",
    "X_test = X_test_transformed\n",
    "y_test = test_data['label']\n",
    "\n",
    "model = SVC()\n",
    "model.fit(X_train, y_train)\n",
    "\n",
    "y_pred = model.predict(X_test)\n",
    "accuracy = accuracy_score(y_test, y_pred)\n",
    "f1 = f1_score(y_test, y_pred)\n",
    "classification_rep = classification_report(y_test, y_pred)\n",
    "\n",
    "print(f'Accuracy: {accuracy}')\n",
    "print(f'F1 Score: {f1}')\n",
    "print('Classification Report:')\n",
    "print(classification_rep)\n"
   ]
  },
  {
   "cell_type": "code",
   "execution_count": null,
   "metadata": {},
   "outputs": [],
   "source": [
    "from sklearn.neighbors import KNeighborsClassifier\n",
    "from sklearn.model_selection import train_test_split\n",
    "from sklearn.metrics import accuracy_score, classification_report, f1_score\n",
    "\n",
    "X_train = X_train_transformed\n",
    "y_train = train_data['label']\n",
    "X_test = X_test_transformed\n",
    "y_test = test_data['label']\n",
    "\n",
    "model = KNeighborsClassifier(n_neighbors=1000)\n",
    "model.fit(X_train, y_train)\n",
    "\n",
    "y_pred = model.predict(X_test)\n",
    "accuracy = accuracy_score(y_test, y_pred)\n",
    "f1 = f1_score(y_test, y_pred)\n",
    "classification_rep = classification_report(y_test, y_pred)\n",
    "\n",
    "print(f'Accuracy: {accuracy}')\n",
    "print(f'F1 Score: {f1}')\n",
    "print('Classification Report:')\n",
    "print(classification_rep)\n"
   ]
  }
 ],
 "metadata": {
  "language_info": {
   "name": "python"
  }
 },
 "nbformat": 4,
 "nbformat_minor": 2
}
